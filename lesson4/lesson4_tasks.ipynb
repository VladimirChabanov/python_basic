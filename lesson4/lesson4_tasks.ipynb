{
  "nbformat": 4,
  "nbformat_minor": 0,
  "metadata": {
    "colab": {
      "name": "lesson4_tasks.ipynb",
      "provenance": [],
      "collapsed_sections": []
    },
    "kernelspec": {
      "name": "python3",
      "display_name": "Python 3"
    }
  },
  "cells": [
    {
      "cell_type": "markdown",
      "metadata": {
        "id": "u-BCmwuwhTPH"
      },
      "source": [
        "# Практика решения простейших задач. Занятие 4"
      ]
    },
    {
      "cell_type": "markdown",
      "metadata": {
        "id": "VZoOcdgsixQX"
      },
      "source": [
        "## Задача 1\n",
        "\n",
        "Запросить у пользователя 2 целых числа $A$ и $B$, при этом $A \\le B$. Выведите все числа в диапазоне от $A$ до $B$ включительно.  \n",
        "Пример:\n",
        "\n",
        "| A | B | Вывод |\n",
        "| :-: | :-: | :-: |\n",
        "| 0 | 5 | 0 1 2 3 4 5 |\n",
        "| -5 | 0 | -5 -4 -3 -2 -1 0 |\n",
        "\n",
        "<sup>\\*Нужно использовать функцию [range](https://youtu.be/9J0fvF4k4F4) и [циклы](https://youtu.be/yPUA8xBEyzM)</sup> \n",
        "\n"
      ]
    },
    {
      "cell_type": "code",
      "metadata": {
        "id": "Lqoz7oAHmBeR"
      },
      "source": [
        "# Ваш код здесь"
      ],
      "execution_count": null,
      "outputs": []
    },
    {
      "cell_type": "markdown",
      "metadata": {
        "id": "Itzi4B05XZ0L"
      },
      "source": [
        "## Задача 2\n",
        "\n",
        "Запросить у пользователя одно целое число $n$, при этом $n \\gt 0$. Выведите на экран сумму всех чисел от единицы до $n$ включительно. Т.е. нужно рассчитать $1+2+3+...+n$.  \n",
        "Пример:\n",
        "\n",
        "| n | Вывод |\n",
        "| :-: | :-: |\n",
        "| 1 | 1 |\n",
        "| 2 | 3 |\n",
        "| 10 | 55 |\n",
        "\n",
        "<sup>\\*Нужно использовать функцию [range](https://youtu.be/9J0fvF4k4F4), [циклы](https://youtu.be/yPUA8xBEyzM) и дополнительную переменную для сохранения промежуточной суммы</sup> "
      ]
    },
    {
      "cell_type": "code",
      "metadata": {
        "id": "1ri28_HKXZS8"
      },
      "source": [
        "# Ваш код здесь"
      ],
      "execution_count": null,
      "outputs": []
    },
    {
      "cell_type": "markdown",
      "metadata": {
        "id": "IQd7j1PCY1Bj"
      },
      "source": [
        "## Задача 3\n",
        "\n",
        "Запросить у пользователя 3 целых числа $A$, $B$ и $C$, при этом $A \\le B$. Выведите на экран сообщение: \"ОК\", если число $C$ входит в диапазон $[A...B]$, в противном случае выведите сообщение \"NO\".  Решить задачу с использованием циклов!  \n",
        "Пример:\n",
        "\n",
        "| A | B | C| Вывод |\n",
        "| :-: | :-: | :-: | :-: |\n",
        "| -100 | 100 | 30 | OK |\n",
        "| 25 | 70 | -1 | NO |\n",
        "| 3 | 5 | 3 | OK |\n",
        "\n",
        "<sup>\\*Нужно использовать функцию [range](https://youtu.be/9J0fvF4k4F4), [циклы](https://youtu.be/yPUA8xBEyzM) и оператор [if](https://youtu.be/EggJRTzid1M)</sup> "
      ]
    },
    {
      "cell_type": "code",
      "metadata": {
        "id": "TOfZN7f4Y0zT"
      },
      "source": [
        "# Ваш код здесь"
      ],
      "execution_count": null,
      "outputs": []
    },
    {
      "cell_type": "markdown",
      "metadata": {
        "id": "BzIrEia-OG4N"
      },
      "source": [
        "## Задача 4\n",
        "\n",
        "Запросить у пользователя 3 целых числа $A$, $B$ и $C$, при этом $A \\le B$ и $C \\gt 0$. Выведите на экран все числа начиная с $A$ до $B$ шагом $C$.  \n",
        "Пример:\n",
        "\n",
        "| A | B | C| Вывод |\n",
        "| :-: | :-: | :-: | :-: |\n",
        "| 0 | 100 | 23 | 0 23 46 69 92 |\n",
        "| -7 | 70 | 20 | -7 13 33 53 |\n",
        "| 1 | 1 | 5 | 1 |\n",
        "| 1 | 4 | 3 | 1 4 |\n",
        "\n",
        "<sup>\\*Нужно использовать функцию [range](https://youtu.be/9J0fvF4k4F4) с тремя аргументами и [цикл](https://youtu.be/yPUA8xBEyzM) `for` или цикл `while` и переменную счётчик</sup> \n"
      ]
    },
    {
      "cell_type": "code",
      "metadata": {
        "id": "EfpHd4Q7ONz3"
      },
      "source": [
        "# Ваш код здесь"
      ],
      "execution_count": null,
      "outputs": []
    },
    {
      "cell_type": "markdown",
      "metadata": {
        "id": "vQZHMQnKrxF7"
      },
      "source": [
        "## Задача 5\n",
        "\n",
        "Дан текст. Запросите у пользователя букву и посчитайте сколько раз эта буква встречается в тексте. Результат вывести на экран.\n",
        "\n",
        "```\n",
        "у лукоморья дуб зелёный; златая цепь на дубе том: и днём и ночью кот учёный всё ходит по цепи кругом; идёт направо —  песнь заводит, налево — сказку говорит. там чудеса: там леший бродит, русалка на ветвях сидит; там на неведомых дорожках следы невиданных зверей; избушка там на курьих ножках стоит без окон, без дверей; там лес и дол видений полны; там о заре прихлынут волны на брег песчаный и пустой, и тридцать витязей прекрасных чредой из вод выходят ясных, и с ними дядька их морской; там королевич мимоходом пленяет грозного царя; там в облаках перед народом через леса, через моря колдун несёт богатыря; в темнице там царевна тужит, а бурый волк ей верно служит; там ступа с бабою ягой идёт, бредёт сама собой, там царь кащей над златом чахнет; там русский дух… там русью пахнет! и там я был, и мёд я пил; у моря видел дуб зелёный; под ним сидел, и кот учёный свои мне сказки говорил.\n",
        "```\n",
        "\n",
        "<sup>\\*Нужно использовать циклы, функцию [len для списка](https://youtu.be/CEQZYZMPJSU), [индексацию списков](https://youtu.be/z8WWOnxUOb8), переменную для хранения промежуточного значения при подсчёте</sup>"
      ]
    },
    {
      "cell_type": "code",
      "metadata": {
        "id": "NRYq_UjyugLD"
      },
      "source": [
        "# Ваш код здесь"
      ],
      "execution_count": null,
      "outputs": []
    },
    {
      "cell_type": "markdown",
      "metadata": {
        "id": "iBkzO7fqE2Da"
      },
      "source": [
        "## Задача 6\n",
        "\n",
        "Дана кодирующая последовательность нуклеотидов ДНК:\n",
        "\n",
        "```\n",
        "ATGGTGCATTTTACTGCTGAGGAGAAGGCTGCCGTCACTAGCCTGTGGAGCAAGATGAATGTGGAAGAGGCTGGAGGTGAAGCCTTGGGCAGGTAAGCATTGGTTCTCAATGCATGGGAATGAAGGGTGAATATTACCCTAGCAAGTTGATTGGGAAAGTCCTCAAGATTTTTTGCATCTCTAATTTTGTATCTGATATGGTGTCATTTCATAGACTCCTCGTTGTTTACCCCTGGACCCAGAGATTTTTTGACAGCTTTGGAAACCTGTCGTCTCCCTCTGCCATCCTGGGCAACCCCAAGGTCAAGGCCCATGGCAAGAAGGTGCTGACTTCCTTTGGAGATGCTATTAAAAACATGGACAACCTCAAGCCCGCCTTTGCTAAGCTGAGTGAGCTGCACTGTGACAAGCTGCATGTGGATCCTGAGAACTTCAAGGTGAGTTCAGGTGCTGGTGATGTGATTTTTTGGCTTTATATTTTGACATTAATTGAAGCTCATAATCTTATTGGAAAGACCAACAAAGATCTCAGAAATCATGGGTCGAGCTTGATGTTAGAACAGCAGACTTCTAGTGAGCATAACCAAAACTTACATGATTCAGAACTAGTGACAGTAAAGGACTACTAACGCCTGAATTGGCTTAACTTTTCAGGAAATCTTGCCAGAACTTGATGTGTTTATCCCAGAAATTGTATTATAGAATTGTAGACTTGTGAAAGAAGAATGAAATTTGGCTTTTGGTAGATGAAAGTCCATTTCAAGGAAATAGAAATGCCTTATTTTATGTGGGTCATGATAATTGAGGTTTAGAAGAGATTTTTGCAAAAAAAATAAAAGATTTGCTCAAAGAAAAATAAGACACATTTTCTAAAATATGTTAAATTTCCCATCAGTATTGTGACCAAGTGAAGGCTTGTTTCCGAATTTGTTGGGGATTTTAAACTCCCGCTGAGAACTCTTGCAGCACTCACATTCTACATTTACAAAAATTAGACAATTGCTTAAAGAAAAACAGGGAGAGAGGGAACCCAATAATACTGGTAAAATGGGGAAGGGGGTGAGGGTGTAGGTAGGTAGAATGTTGAATGTAGGGCTCATAGAATAAAATTGAACCTAAGCTCATCTGAATTTTTTGGGTGGGCACAAACCTTGGAACAGTTTGAGGTCAGGGTTGTCTAGGAATGTAGGTATAAAGCCGTTTTTGTTTGTTTGTTTGTTTTTTCATCAAGTTGTTTTCGGAAACTTCTACTCAACATGCCTGTGTGTTATTTTGTCTTTTGCCTAACAGCTCCTGGGTAACGTGATGGTGATTATTCTGGCTACTCACTTTGGCAAGGAGTTCACCCCTGAAGTGCAGGCTGCCTGGCAGAAGCTGGTGTCTGCTGTCGCCATTGCCCTGGCCCATAAGTACCACTGA\n",
        "```\n",
        "\n",
        "Воспользовавшись принципом комплементарности выведите вторую (матричную) цепочку ДНК \n",
        "\n",
        "<img width=\"600px\" src=\"https://raw.githubusercontent.com/VladimirChabanov/python_basic/master/lesson4/img/TCGA.png\">\n",
        "\n",
        "<sup>\\*Нужно использовать функцию [range](https://youtu.be/9J0fvF4k4F4), функцию `len`, [индексирование строки](https://youtu.be/ITI2kJ6j8Ho) и оператор `if`</sup>"
      ]
    },
    {
      "cell_type": "code",
      "metadata": {
        "id": "aDBWJf-DJ9Em"
      },
      "source": [
        "# Ваш код здесь"
      ],
      "execution_count": null,
      "outputs": []
    },
    {
      "cell_type": "markdown",
      "metadata": {
        "id": "IPNIpqFLUjVh"
      },
      "source": [
        "## Задача 7\n",
        "\n",
        "Дана кодирующая последовательность нуклеотидов ДНК:\n",
        "\n",
        "```\n",
        "ATGGTGCATTTTACTGCTGAGGAGAAGGCTGCCGTCACTAGCCTGTGGAGCAAGATGAATGTGGAAGAGGCTGGAGGTGAAGCCTTGGGCAGGTAAGCATTGGTTCTCAATGCATGGGAATGAAGGGTGAATATTACCCTAGCAAGTTGATTGGGAAAGTCCTCAAGATTTTTTGCATCTCTAATTTTGTATCTGATATGGTGTCATTTCATAGACTCCTCGTTGTTTACCCCTGGACCCAGAGATTTTTTGACAGCTTTGGAAACCTGTCGTCTCCCTCTGCCATCCTGGGCAACCCCAAGGTCAAGGCCCATGGCAAGAAGGTGCTGACTTCCTTTGGAGATGCTATTAAAAACATGGACAACCTCAAGCCCGCCTTTGCTAAGCTGAGTGAGCTGCACTGTGACAAGCTGCATGTGGATCCTGAGAACTTCAAGGTGAGTTCAGGTGCTGGTGATGTGATTTTTTGGCTTTATATTTTGACATTAATTGAAGCTCATAATCTTATTGGAAAGACCAACAAAGATCTCAGAAATCATGGGTCGAGCTTGATGTTAGAACAGCAGACTTCTAGTGAGCATAACCAAAACTTACATGATTCAGAACTAGTGACAGTAAAGGACTACTAACGCCTGAATTGGCTTAACTTTTCAGGAAATCTTGCCAGAACTTGATGTGTTTATCCCAGAAATTGTATTATAGAATTGTAGACTTGTGAAAGAAGAATGAAATTTGGCTTTTGGTAGATGAAAGTCCATTTCAAGGAAATAGAAATGCCTTATTTTATGTGGGTCATGATAATTGAGGTTTAGAAGAGATTTTTGCAAAAAAAATAAAAGATTTGCTCAAAGAAAAATAAGACACATTTTCTAAAATATGTTAAATTTCCCATCAGTATTGTGACCAAGTGAAGGCTTGTTTCCGAATTTGTTGGGGATTTTAAACTCCCGCTGAGAACTCTTGCAGCACTCACATTCTACATTTACAAAAATTAGACAATTGCTTAAAGAAAAACAGGGAGAGAGGGAACCCAATAATACTGGTAAAATGGGGAAGGGGGTGAGGGTGTAGGTAGGTAGAATGTTGAATGTAGGGCTCATAGAATAAAATTGAACCTAAGCTCATCTGAATTTTTTGGGTGGGCACAAACCTTGGAACAGTTTGAGGTCAGGGTTGTCTAGGAATGTAGGTATAAAGCCGTTTTTGTTTGTTTGTTTGTTTTTTCATCAAGTTGTTTTCGGAAACTTCTACTCAACATGCCTGTGTGTTATTTTGTCTTTTGCCTAACAGCTCCTGGGTAACGTGATGGTGATTATTCTGGCTACTCACTTTGGCAAGGAGTTCACCCCTGAAGTGCAGGCTGCCTGGCAGAAGCTGGTGTCTGCTGTCGCCATTGCCCTGGCCCATAAGTACCACTGA\n",
        "```\n",
        "\n",
        "Запросите у пользователя название кодона и посчитайте сколько раз он встречается в данной цепочке.  \n",
        "Пример:\n",
        "\n",
        "| Кодон | Количество |\n",
        "| :-: | :-:|\n",
        "| ATG | 12 |\n",
        "| AAA | 14 |\n",
        "| TTC | 6  |\n",
        "\n",
        "<sup>\\*Нужно использовать функцию [range](https://youtu.be/9J0fvF4k4F4), функцию `len`, [срез строки](https://youtu.be/ITI2kJ6j8Ho) и оператор `if`</sup>"
      ]
    },
    {
      "cell_type": "code",
      "metadata": {
        "id": "YMSEOTCEKQqO"
      },
      "source": [
        "# Ваш код здесь"
      ],
      "execution_count": null,
      "outputs": []
    },
    {
      "cell_type": "markdown",
      "metadata": {
        "id": "oxXyQ5_Yo9Db"
      },
      "source": [
        "## Задача 8\n",
        "\n",
        "Дан список чисел. Запросите у пользователя число и посчитайте сколько раз оно встречается в списке.  \n",
        "Пример:\n",
        "\n",
        "| Список | Число | Количество |\n",
        "| :-: | :-: | :-: |\n",
        "| [1, 1, 3, 5, 5, 1] | 1 | 3 |\n",
        "| [-3, 7, 2, 14, 50] | 7 | 1 |\n",
        "| [-5] | 30 | 0 |\n",
        "\n",
        "<sup>\\*Нужно использовать циклы, функцию [len для списка](https://youtu.be/CEQZYZMPJSU), [индексацию списков](https://youtu.be/z8WWOnxUOb8), переменную для хранения промежуточного количества, оператор `if`</sup>"
      ]
    },
    {
      "cell_type": "code",
      "metadata": {
        "id": "W9w-TgiCo8Yc"
      },
      "source": [
        "a = [1, 7, 3, -5, 4, 123, -5, 333, 888, -133, 412, 412, 597, 1345, 0, 456]\n",
        "# Ваш код здесь"
      ],
      "execution_count": null,
      "outputs": []
    },
    {
      "cell_type": "markdown",
      "metadata": {
        "id": "tV3_xcmXXbTa"
      },
      "source": [
        "## Задача 9\n",
        "\n",
        "Дан список чисел. Вычислите сумму всех элементов списка и среднее значение.  \n",
        "Пример:\n",
        "\n",
        "| Список | Сумма | Среднее |\n",
        "| :-: | :-: | :-: |\n",
        "| [1, 2, 3, 4, 5, 6] | 21 | 3.5 |\n",
        "| [-3, 7, 2, 14, 50] | 70 | 14 |\n",
        "| [-5] | -5 | -5 |\n",
        "\n",
        "<sup>\\*Нужно использовать циклы, функцию [len для списка](https://youtu.be/CEQZYZMPJSU), [индексацию списков](https://youtu.be/z8WWOnxUOb8), переменную для хранения промежуточной суммы</sup>"
      ]
    },
    {
      "cell_type": "code",
      "metadata": {
        "id": "x3mRXq0Ot6U4"
      },
      "source": [
        "a = [1, 7, 3, -5, 4, 123, -5, 333, 888, -133, 412, 412, 597, 1345, 0, 456]\n",
        "# Ваш код здесь"
      ],
      "execution_count": null,
      "outputs": []
    },
    {
      "cell_type": "markdown",
      "metadata": {
        "id": "UyhtHsYOnn5m"
      },
      "source": [
        "## Задача 10\n",
        "\n",
        "Дан список чисел. Вычислите максимальный и минимальный элемент списка.  \n",
        "Пример:\n",
        "\n",
        "| Список | Минимум | Максимум |\n",
        "| :-: | :-: | :-: |\n",
        "| [1, 2, 3, 4, 5, 6] | 1 | 6 |\n",
        "| [7, -3, 2, 14, 50] | -3 | 50 |\n",
        "| [-5] | -5 | -5 |\n",
        "\n",
        "<sup>\\*Нужно использовать циклы, функцию [len для списка](https://youtu.be/CEQZYZMPJSU), [индексацию списков](https://youtu.be/z8WWOnxUOb8), переменную для хранения промежуточного значения максимума/минимума</sup>"
      ]
    },
    {
      "cell_type": "code",
      "metadata": {
        "id": "ZSuxMW8mnrIE"
      },
      "source": [
        "a = [1, 7, 3, -5, 4, 123, -5, 333, 888, -133, 412, 412, 597, 1345, 0, 456]\n",
        "# Ваш код здесь"
      ],
      "execution_count": null,
      "outputs": []
    }
  ]
}