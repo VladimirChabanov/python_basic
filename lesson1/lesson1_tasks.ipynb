{
  "nbformat": 4,
  "nbformat_minor": 0,
  "metadata": {
    "colab": {
      "name": "lesson1_tasks.ipynb",
      "provenance": [],
      "collapsed_sections": []
    },
    "kernelspec": {
      "name": "python3",
      "display_name": "Python 3"
    }
  },
  "cells": [
    {
      "cell_type": "markdown",
      "metadata": {
        "id": "u-BCmwuwhTPH"
      },
      "source": [
        "# Практика решения простейших задач. Занятие 1"
      ]
    },
    {
      "cell_type": "markdown",
      "metadata": {
        "id": "VZoOcdgsixQX"
      },
      "source": [
        "## Задача 1\r\n",
        "\r\n",
        "Даны два числа 355 и 113 вычислите <a href=\"https://ru.wikipedia.org/wiki/Деление_(математика)\">частное</a> этих чисел. Выведите на экран вычисленное значение."
      ]
    },
    {
      "cell_type": "code",
      "metadata": {
        "id": "Lqoz7oAHmBeR"
      },
      "source": [
        "# Ваш код здесь"
      ],
      "execution_count": null,
      "outputs": []
    },
    {
      "cell_type": "markdown",
      "metadata": {
        "id": "-VhzjdWwhkoj"
      },
      "source": [
        "## Задача 2\r\n",
        "Вычислите $2^{189}$. Выведите на экран вычисленное значение."
      ]
    },
    {
      "cell_type": "code",
      "metadata": {
        "id": "ilT12yHyhS_P"
      },
      "source": [
        "# Ваш код здесь"
      ],
      "execution_count": null,
      "outputs": []
    },
    {
      "cell_type": "markdown",
      "metadata": {
        "id": "2DHEInUuikwK"
      },
      "source": [
        "## Задача 3\r\n",
        "\r\n",
        "Вычислите [факториал](https://ru.wikipedia.org/wiki/Факториал) ***20!***. Выведите на экран вычисленное значение."
      ]
    },
    {
      "cell_type": "code",
      "metadata": {
        "id": "E97twiFxihKN"
      },
      "source": [
        "# Ваш код здесь"
      ],
      "execution_count": null,
      "outputs": []
    },
    {
      "cell_type": "markdown",
      "metadata": {
        "id": "OP_WXaTbirOU"
      },
      "source": [
        "## Задача 4\r\n",
        "\r\n",
        "Вычислите длину гипотенузы в [прямоугольном треугольнике](https://ru.wikipedia.org/wiki/Прямоугольный_треугольник) со сторонами $a = 189$ и $b = 981$. Выведите на экран вычисленное значение.\r\n",
        "\r\n",
        "![](https://upload.wikimedia.org/wikipedia/commons/thumb/6/6f/Rtriangle.svg/220px-Rtriangle.svg.png)"
      ]
    },
    {
      "cell_type": "code",
      "metadata": {
        "id": "HJwFtWuuivau"
      },
      "source": [
        "# Ваш код здесь"
      ],
      "execution_count": null,
      "outputs": []
    },
    {
      "cell_type": "markdown",
      "metadata": {
        "id": "CEritPIar0wS"
      },
      "source": [
        "## Задача 5\r\n",
        "\r\n",
        "Вычислите приближённое значение числа $\\pi$ по формуле: $\\pi \\approx {\\sqrt {12}}\\,\\left(1-{\\frac {1}{3\\cdot 3}}+{\\frac {1}{5\\cdot 3^{2}}}-{\\frac {1}{7\\cdot 3^{3}}}+{\\frac {1}{9\\cdot 3^{4}}}-{\\frac {1}{11\\cdot 3^{5}}} \\right)$"
      ]
    },
    {
      "cell_type": "code",
      "metadata": {
        "id": "371GLndfi4Hi"
      },
      "source": [
        "# Ваш код здесь"
      ],
      "execution_count": null,
      "outputs": []
    },
    {
      "cell_type": "markdown",
      "metadata": {
        "id": "xowGvSPE_t5I"
      },
      "source": [
        "## Задача 6\r\n",
        "\r\n",
        "Взрослый человек за сутки при дыхании в среднем использует 0.5 литров кислорода. 50-летний дуб за год выделяет 20 литров кислорода, а 25 – летний тополь – около 32 литров. Сколько кислорода в год (365 дней) необходимо для жизни одного человека? Сколько тополей должны работать, чтобы обеспечить кислородом одного человека, а дубов?\r\n",
        "\r\n",
        "<sup>* цифры не являются достоверными</sup>"
      ]
    },
    {
      "cell_type": "code",
      "metadata": {
        "id": "4N9zyDAc_uPH"
      },
      "source": [
        "# Ваш код здесь"
      ],
      "execution_count": null,
      "outputs": []
    },
    {
      "cell_type": "markdown",
      "metadata": {
        "id": "jKd_Nzrf98Su"
      },
      "source": [
        "# Задача 7\r\n",
        "\r\n",
        "Напишите программу вычисляющую: сумму, разность, произведение, частное двух чисел. Результат вывести на экран.  \r\n",
        "Программа должна запрашивать ввод данных.\r\n",
        "\r\n",
        "**Пример вывода**\r\n",
        "\r\n",
        "Сумма: 24  \r\n",
        "Разность: 6  \r\n",
        "Произведение: 128  \r\n",
        "Частное: 2.0"
      ]
    },
    {
      "cell_type": "code",
      "metadata": {
        "id": "x7Ngy1o098v-"
      },
      "source": [
        "# Ваш код здесь"
      ],
      "execution_count": null,
      "outputs": []
    },
    {
      "cell_type": "markdown",
      "metadata": {
        "id": "U3MZW7_HzU_j"
      },
      "source": [
        "# Задача 8\r\n",
        "\r\n",
        "Напишите программу вычисляющую [индекс массы тела](https://ru.wikipedia.org/wiki/Индекс_массы_тела) $I = \\frac{m}{h^2}$, при этом $m$ — масса тела в килограммах, а $h$ — рост в метрах. Результат выведите на экран.  \r\n",
        "Программа должна запрашивать ввод данных.\r\n",
        "\r\n",
        "<img src=\"http://itd0.mycdn.me/image?id=870683666206&t=20&plc=MOBILE&tkn=*VyyuCkC8Hc96Fbnayu4ORYxfr2g\" width=\"500px\">"
      ]
    },
    {
      "cell_type": "code",
      "metadata": {
        "id": "lb4Eo5UX0Ruv"
      },
      "source": [
        "# Ваш код здесь"
      ],
      "execution_count": null,
      "outputs": []
    },
    {
      "cell_type": "markdown",
      "metadata": {
        "id": "Z4G7XKb4u2R9"
      },
      "source": [
        "# Задача 9\r\n",
        "\r\n",
        "Банкомату требуется выдать сумму $N$ рублей. У банкомата в наличии не ограниченное количество купюр номиналом: 5000, 1000, 500, 200, 100 рублей. Вычислите и выведите на экран какое количество купюр каждого номинала должен выдать банкомат, при условии, что их сумма должна быть минимальной из всех возможных комбинаций.  \r\n",
        "Программа должна запрашивать ввод данных.\r\n",
        "\r\n",
        "**Пример вывода (для суммы 27300)**\r\n",
        "\r\n",
        "5 по 5000 рублей; 2 по 1000 рублей; 0 по 500 рублей; 1 по 200 рублей; 1 по 100 рублей\r\n",
        "\r\n"
      ]
    },
    {
      "cell_type": "code",
      "metadata": {
        "id": "mUAzYn7mxyPU"
      },
      "source": [
        "# Ваш код здесь"
      ],
      "execution_count": null,
      "outputs": []
    },
    {
      "cell_type": "markdown",
      "metadata": {
        "id": "OqW1tFaOGMnr"
      },
      "source": [
        "# Задача 10\r\n",
        "\r\n",
        "Группа крови является наследственным признаком, зависящим от одного гена. Ген этот имеет не две, а три аллели, обозначаемые символами А, В, 0.\r\n",
        "\r\n",
        " - Лица с генотипом 00 имеют $I$ группу крови;  \r\n",
        " - Лица с генотипами АА или А0 – $II$;  \r\n",
        " - Лица с генотипами BB или В0 – $III$;  \r\n",
        " - Лица с генотипом АВ –  $IV$;\r\n",
        "\r\n",
        "Мы можем сказать, что аллели А и В доминируют над аллелью 0, тогда как друг друга они не подавляют.  \r\n",
        "\r\n",
        "Какова [вероятность](https://youtu.be/RMBhfFANuf0), что у ребёнка будет $I$ группа крови, если у его матери – $II$ группа крови (вероятность АА или А0 по 50%), а у отца – $III$(вероятность BB или В0 по 50%)?\r\n",
        "\r\n",
        "<img src=\"https://pm1.narvii.com/7345/b0d2317d96e9ce1367a417908a5f74fd7f873d4dr1-1080-649v2_hq.jpg\" width=\"500px\">\r\n",
        "\r\n",
        "<sup><b>Подсказка:</b> То есть одновременно должны совпасть 4 фактора: у матери генотип A0, у отца генотип В0, ребёнок получает от матери ген 0, ребенок получает от отца ген 0.</sup>"
      ]
    },
    {
      "cell_type": "code",
      "metadata": {
        "id": "0NBkJbbCGQf0"
      },
      "source": [
        "# Ваш код здесь"
      ],
      "execution_count": null,
      "outputs": []
    }
  ]
}